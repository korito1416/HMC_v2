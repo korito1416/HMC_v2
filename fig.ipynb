{
 "cells": [
  {
   "cell_type": "code",
   "execution_count": 1,
   "metadata": {},
   "outputs": [],
   "source": [
    "from PIL import Image\n",
    "from ipywidgets import interactive\n",
    "from ipywidgets import Box\n",
    "import os"
   ]
  },
  {
   "cell_type": "code",
   "execution_count": 3,
   "metadata": {},
   "outputs": [
    {
     "data": {
      "application/vnd.jupyter.widget-view+json": {
       "model_id": "5e9eeacb3f3040d6bf14ae0a732c155b",
       "version_major": 2,
       "version_minor": 0
      },
      "text/plain": [
       "Box(children=(interactive(children=(Dropdown(description='sitenum', options=(10, 25, 43, 100), value=10), Drop…"
      ]
     },
     "execution_count": 3,
     "metadata": {},
     "output_type": "execute_result"
    }
   ],
   "source": [
    "def image(sitenum = [25],\\\n",
    "          xi=[20],\\\n",
    "          weight = [0.1],\\\n",
    "          mix_in = [2],\\\n",
    "          mass_matrix = [0.1, 1.0, 2.0, 1, 2],\\\n",
    "          num_steps = [20, 10, 4, 2],\\\n",
    "          figure = ['gamma','error']):\n",
    "\n",
    "    print('sitenum:', sitenum, ', xi:', xi, ', weight:', weight)\n",
    "    theta_multiplier = 1.0\n",
    "    gamma_multiplier = 1.0\n",
    "    pf = 20.76\n",
    "    pa = 44.75\n",
    "    time = 200\n",
    "    symplectic_integrator_num_steps = num_steps\n",
    "    dataname = 'test_long_run'\n",
    "    plotdir = os.getcwd()+\"/plot/\"+dataname+\"/pf_\"+str(pf)+\"_pa_\"+str(pa)+\"_time_\"+str(time)+\"/theta_\"+str(theta_multiplier)+\"_gamma_\"+str(gamma_multiplier)+\"/sitenum_\"+str(sitenum)+\"_xi_\"+str(xi)+\"/mix_in_\"+str(mix_in)+\"_mass_matrix_\"+str(mass_matrix)+\"_symplectic_integrator_num_steps_\"+str(symplectic_integrator_num_steps)+\"/weight_\"+str(weight)+\"/\"+figure+\".png\"\n",
    "\n",
    "    userimage = Image.open(plotdir)\n",
    "    display(userimage)\n",
    "\n",
    "interactive_plot1 = interactive(image)\n",
    "\n",
    "def image3(sitenum = [10, 25, 43, 100],\\\n",
    "          xi=[10.0, 1.0, 0.1],\\\n",
    "          weight = [0.25, 1.0],\\\n",
    "          mix_in = [2,4,10,20],\\\n",
    "          mass_matrix = [0.1, 1.0, 2.0],\\\n",
    "          num_steps = [20, 10, 4, 2],\\\n",
    "          figure = ['error','gamma']):\n",
    "\n",
    "    print('mix_in:', mix_in, ', mass_matrix:', mass_matrix, ', num_steps:', num_steps)\n",
    "    theta_multiplier = 1.0\n",
    "    gamma_multiplier = 1.0\n",
    "    pf = 20.76\n",
    "    pa = 44.75\n",
    "    time = 200\n",
    "    symplectic_integrator_num_steps = num_steps\n",
    "    dataname = 'test_long_run'\n",
    "    plotdir = os.getcwd()+\"/plot/\"+dataname+\"/pf_\"+str(pf)+\"_pa_\"+str(pa)+\"_time_\"+str(time)+\"/theta_\"+str(theta_multiplier)+\"_gamma_\"+str(gamma_multiplier)+\"/sitenum_\"+str(sitenum)+\"_xi_\"+str(xi)+\"/mix_in_\"+str(mix_in)+\"_mass_matrix_\"+str(mass_matrix)+\"_symplectic_integrator_num_steps_\"+str(symplectic_integrator_num_steps)+\"/weight_\"+str(weight)+\"/\"+figure+\".png\"\n",
    "\n",
    "    userimage = Image.open(plotdir)\n",
    "    display(userimage)\n",
    "\n",
    "interactive_plot3 = interactive(image3)\n",
    "\n",
    "items = [interactive_plot1, interactive_plot3]\n",
    "box = Box(children=items)\n",
    "\n",
    "box"
   ]
  },
  {
   "cell_type": "code",
   "execution_count": 3,
   "metadata": {},
   "outputs": [
    {
     "data": {
      "application/vnd.jupyter.widget-view+json": {
       "model_id": "e3e1e35743254397aa0b9744018c8b72",
       "version_major": 2,
       "version_minor": 0
      },
      "text/plain": [
       "Box(children=(interactive(children=(Dropdown(description='sitenum', options=(10, 25), value=10), Dropdown(desc…"
      ]
     },
     "execution_count": 3,
     "metadata": {},
     "output_type": "execute_result"
    }
   ],
   "source": [
    "def image(sitenum = [25],\\\n",
    "          xi=[20],\\\n",
    "          weight = [0.1],\\\n",
    "          mix_in = [2],\\\n",
    "          num_steps = [10],\\\n",
    "          mode=[2.0 3.0],\\\n",
    "          figure = ['gamma','error']):\n",
    "\n",
    "    print('sitenum:', sitenum, ', xi:', xi, ', weight:', weight)\n",
    "    mass_matrix_theta_scale=1.0\n",
    "    mass_matrix_gamma_scale=1.0\n",
    "    pf = 20.76\n",
    "    pa = 44.75\n",
    "    time = 200\n",
    "    symplectic_integrator_num_steps = 10\n",
    "    dataname = 'long_run_high'\n",
    "    plotdir = os.getcwd()+\"/plot/\"+dataname+\"/pf_\"+str(pf)+\"_pa_\"+str(pa)+\"_time_\"+str(time)+\"/theta_\"+str(theta_multiplier)+\"_gamma_\"+str(gamma_multiplier)+\"/sitenum_\"+str(sitenum)+\"_xi_\"+str(xi)+\"/mix_in_\"+str(mix_in)+\"_mass_matrix_\"+str(mass_matrix)+\"_symplectic_integrator_num_steps_\"+str(symplectic_integrator_num_steps)+\"/weight_\"+str(weight)+\"/\"+figure+\".png\"\n",
    "\n",
    "    userimage = Image.open(plotdir)\n",
    "    display(userimage)\n",
    "\n",
    "interactive_plot1 = interactive(image)\n",
    "\n",
    "\n",
    "items = [interactive_plot1]\n",
    "box = Box(children=items)\n",
    "\n",
    "box"
   ]
  },
  {
   "cell_type": "code",
   "execution_count": null,
   "metadata": {},
   "outputs": [],
   "source": []
  }
 ],
 "metadata": {
  "kernelspec": {
   "display_name": "Python 3",
   "language": "python",
   "name": "python3"
  },
  "language_info": {
   "codemirror_mode": {
    "name": "ipython",
    "version": 3
   },
   "file_extension": ".py",
   "mimetype": "text/x-python",
   "name": "python",
   "nbconvert_exporter": "python",
   "pygments_lexer": "ipython3",
   "version": "3.8.5"
  }
 },
 "nbformat": 4,
 "nbformat_minor": 2
}
